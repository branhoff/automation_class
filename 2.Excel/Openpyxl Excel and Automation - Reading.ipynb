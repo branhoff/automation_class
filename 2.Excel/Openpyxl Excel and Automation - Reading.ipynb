{
 "cells": [
  {
   "cell_type": "markdown",
   "metadata": {},
   "source": [
    "## Openpyxl and Excel Automation - Reading"
   ]
  },
  {
   "cell_type": "markdown",
   "metadata": {},
   "source": [
    "**openpyxl documentation:** https://openpyxl.readthedocs.io/en/stable/"
   ]
  },
  {
   "cell_type": "code",
   "execution_count": 1,
   "metadata": {},
   "outputs": [],
   "source": [
    "import openpyxl as xl"
   ]
  },
  {
   "cell_type": "markdown",
   "metadata": {},
   "source": [
    "We can load  pre-existing work books"
   ]
  },
  {
   "cell_type": "code",
   "execution_count": 2,
   "metadata": {},
   "outputs": [],
   "source": [
    "wb = xl.load_workbook(\"test.xlsx\")"
   ]
  },
  {
   "cell_type": "markdown",
   "metadata": {},
   "source": [
    "We can get the sheet names as a list:"
   ]
  },
  {
   "cell_type": "code",
   "execution_count": 3,
   "metadata": {},
   "outputs": [
    {
     "data": {
      "text/plain": [
       "['MySheet', 'OtherSheet', 'ThisSheet']"
      ]
     },
     "execution_count": 3,
     "metadata": {},
     "output_type": "execute_result"
    }
   ],
   "source": [
    "wb.sheetnames"
   ]
  },
  {
   "cell_type": "markdown",
   "metadata": {},
   "source": [
    "If we want to access a single sheet we can call it individually with slicing"
   ]
  },
  {
   "cell_type": "code",
   "execution_count": 4,
   "metadata": {},
   "outputs": [],
   "source": [
    "sheet = wb[\"ThisSheet\"]"
   ]
  },
  {
   "cell_type": "markdown",
   "metadata": {},
   "source": [
    "We can also access data from sheet cells we refer by sheet and then cell address"
   ]
  },
  {
   "cell_type": "code",
   "execution_count": 5,
   "metadata": {},
   "outputs": [
    {
     "data": {
      "text/plain": [
       "'Abraham Lincoln'"
      ]
     },
     "execution_count": 5,
     "metadata": {},
     "output_type": "execute_result"
    }
   ],
   "source": [
    "sheet['A2'].value"
   ]
  },
  {
   "cell_type": "markdown",
   "metadata": {},
   "source": [
    "We can also access data this way:"
   ]
  },
  {
   "cell_type": "code",
   "execution_count": 6,
   "metadata": {},
   "outputs": [],
   "source": [
    "e = sheet['B2']"
   ]
  },
  {
   "cell_type": "code",
   "execution_count": 7,
   "metadata": {},
   "outputs": [
    {
     "data": {
      "text/plain": [
       "'2/12/1809'"
      ]
     },
     "execution_count": 7,
     "metadata": {},
     "output_type": "execute_result"
    }
   ],
   "source": [
    "e.value"
   ]
  },
  {
   "cell_type": "code",
   "execution_count": 8,
   "metadata": {},
   "outputs": [
    {
     "data": {
      "text/plain": [
       "2"
      ]
     },
     "execution_count": 8,
     "metadata": {},
     "output_type": "execute_result"
    }
   ],
   "source": [
    "e.row"
   ]
  },
  {
   "cell_type": "code",
   "execution_count": 9,
   "metadata": {},
   "outputs": [
    {
     "data": {
      "text/plain": [
       "2"
      ]
     },
     "execution_count": 9,
     "metadata": {},
     "output_type": "execute_result"
    }
   ],
   "source": [
    "e.column"
   ]
  },
  {
   "cell_type": "markdown",
   "metadata": {},
   "source": [
    "We can actually access data with his notation:"
   ]
  },
  {
   "cell_type": "code",
   "execution_count": 10,
   "metadata": {},
   "outputs": [
    {
     "data": {
      "text/plain": [
       "<Cell 'ThisSheet'.D2>"
      ]
     },
     "execution_count": 10,
     "metadata": {},
     "output_type": "execute_result"
    }
   ],
   "source": [
    "sheet.cell(row=2, column=4)"
   ]
  },
  {
   "cell_type": "code",
   "execution_count": 11,
   "metadata": {},
   "outputs": [
    {
     "data": {
      "text/plain": [
       "'Mary Todd'"
      ]
     },
     "execution_count": 11,
     "metadata": {},
     "output_type": "execute_result"
    }
   ],
   "source": [
    "sheet.cell(row=2,column=4).value"
   ]
  },
  {
   "cell_type": "code",
   "execution_count": 12,
   "metadata": {},
   "outputs": [
    {
     "name": "stdout",
     "output_type": "stream",
     "text": [
      "1 President\n",
      "2 Abraham Lincoln\n",
      "3 George Washington\n",
      "4 Teddy Roosevelt\n",
      "5 Barack Obama\n",
      "6 James Madison\n",
      "7 Andrew Johnson\n",
      "8 Herbert Hoover\n"
     ]
    }
   ],
   "source": [
    "for y in range(1,9):\n",
    "    print(y, sheet.cell(row=y, column=1).value)"
   ]
  },
  {
   "cell_type": "code",
   "execution_count": 13,
   "metadata": {},
   "outputs": [
    {
     "name": "stdout",
     "output_type": "stream",
     "text": [
      "1 President\n",
      "2 Birthday\n",
      "3 Hometown\n"
     ]
    }
   ],
   "source": [
    "for x in range(1,4):\n",
    "    print(x, sheet.cell(row=1, column=x).value)"
   ]
  },
  {
   "cell_type": "code",
   "execution_count": 14,
   "metadata": {},
   "outputs": [
    {
     "name": "stdout",
     "output_type": "stream",
     "text": [
      "1 President\n",
      "2 Birthday\n",
      "3 Hometown\n",
      "4 Abraham Lincoln\n",
      "5 2/12/1809\n",
      "6 Springfield, IL\n",
      "7 George Washington\n",
      "8 2/22/1732\n",
      "9 Mount Vernon, VA\n",
      "10 Teddy Roosevelt\n",
      "11 1919-01-06 00:00:00\n",
      "12 New York, New York\n",
      "13 Barack Obama\n",
      "14 1961-08-04 00:00:00\n",
      "15 Chicago, IL\n",
      "16 James Madison\n",
      "17 3/16/1751\n",
      "18 Montpelier, VA\n",
      "19 Andrew Johnson\n",
      "20 12/29/1808\n",
      "21 Elizabethton, Tennessee\n",
      "22 Herbert Hoover\n",
      "23 8/10/1874\n",
      "24 West Branch, Iowa\n"
     ]
    }
   ],
   "source": [
    "count = 1\n",
    "for y in range(1,9):\n",
    "    for x in range(1,4):\n",
    "        print(count, sheet.cell(row=y, column=x).value)\n",
    "        count +=1"
   ]
  },
  {
   "cell_type": "code",
   "execution_count": 15,
   "metadata": {},
   "outputs": [
    {
     "name": "stdout",
     "output_type": "stream",
     "text": [
      "1 President\n",
      "2 Abraham Lincoln\n",
      "3 George Washington\n",
      "4 Teddy Roosevelt\n",
      "5 Barack Obama\n",
      "6 James Madison\n",
      "7 Andrew Johnson\n",
      "8 Herbert Hoover\n",
      "9 Birthday\n",
      "10 2/12/1809\n",
      "11 2/22/1732\n",
      "12 1919-01-06 00:00:00\n",
      "13 1961-08-04 00:00:00\n",
      "14 3/16/1751\n",
      "15 12/29/1808\n",
      "16 8/10/1874\n",
      "17 Hometown\n",
      "18 Springfield, IL\n",
      "19 Mount Vernon, VA\n",
      "20 New York, New York\n",
      "21 Chicago, IL\n",
      "22 Montpelier, VA\n",
      "23 Elizabethton, Tennessee\n",
      "24 West Branch, Iowa\n"
     ]
    }
   ],
   "source": [
    "count = 1\n",
    "for x in range(1,4):\n",
    "    for y in range(1,9):\n",
    "        print(count, sheet.cell(row=y, column=x).value)\n",
    "        count +=1"
   ]
  },
  {
   "cell_type": "code",
   "execution_count": null,
   "metadata": {},
   "outputs": [],
   "source": []
  }
 ],
 "metadata": {
  "kernelspec": {
   "display_name": "Python 3",
   "language": "python",
   "name": "python3"
  },
  "language_info": {
   "codemirror_mode": {
    "name": "ipython",
    "version": 3
   },
   "file_extension": ".py",
   "mimetype": "text/x-python",
   "name": "python",
   "nbconvert_exporter": "python",
   "pygments_lexer": "ipython3",
   "version": "3.8.2"
  }
 },
 "nbformat": 4,
 "nbformat_minor": 4
}
